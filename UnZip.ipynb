{
 "cells": [
  {
   "cell_type": "markdown",
   "id": "a2ba24cb",
   "metadata": {},
   "source": [
    "# Different Types of Zip Format"
   ]
  },
  {
   "cell_type": "raw",
   "id": "945bdc0c",
   "metadata": {},
   "source": [
    ".ZIP\n",
    ".ZIP (Deflate64 compression)\n",
    ".ZIPX\n",
    ".TAR\n",
    ".TGZ\n",
    ".7Z\n",
    ".RAR"
   ]
  },
  {
   "cell_type": "markdown",
   "id": "87762c92",
   "metadata": {},
   "source": [
    "## List of Zip Files"
   ]
  },
  {
   "cell_type": "raw",
   "id": "eebffcff",
   "metadata": {},
   "source": [
    "dwsample1-zip.zip\n",
    "issue58-test.zip\n",
    "export.zipx\n",
    "dwsample1-tar.tar\n",
    "dwsample1-tgz.tgz\n",
    "dwsample1-7z.7z\n",
    "dwsample1-rar.rar"
   ]
  },
  {
   "cell_type": "markdown",
   "id": "cfb7c3b4",
   "metadata": {},
   "source": [
    "### Zip File"
   ]
  },
  {
   "cell_type": "code",
   "execution_count": 9,
   "id": "2df1c7f5",
   "metadata": {},
   "outputs": [],
   "source": [
    "import zipfile"
   ]
  },
  {
   "cell_type": "code",
   "execution_count": 12,
   "id": "57fe7270",
   "metadata": {},
   "outputs": [
    {
     "name": "stdout",
     "output_type": "stream",
     "text": [
      "filename: test.txt\n",
      "compress type: 9\n"
     ]
    }
   ],
   "source": [
    "zippath = \"C:\\\\Users\\\\micro\\\\Downloads\\\\ZipFiles\\\\issue58-test.zip\"\n",
    "with zipfile.ZipFile(zippath, 'r') as zip: \n",
    "    for info in zip.infolist():\n",
    "        print(f'filename: {info.filename}')\n",
    "        print(f'compress type: {info.compress_type}')"
   ]
  },
  {
   "cell_type": "code",
   "execution_count": 13,
   "id": "dc2edef9",
   "metadata": {},
   "outputs": [
    {
     "ename": "NotImplementedError",
     "evalue": "That compression method is not supported",
     "output_type": "error",
     "traceback": [
      "\u001b[1;31m---------------------------------------------------------------------------\u001b[0m",
      "\u001b[1;31mNotImplementedError\u001b[0m                       Traceback (most recent call last)",
      "Cell \u001b[1;32mIn[13], line 2\u001b[0m\n\u001b[0;32m      1\u001b[0m \u001b[38;5;28;01mwith\u001b[39;00m zipfile\u001b[38;5;241m.\u001b[39mZipFile(zippath, \u001b[38;5;124m'\u001b[39m\u001b[38;5;124mr\u001b[39m\u001b[38;5;124m'\u001b[39m) \u001b[38;5;28;01mas\u001b[39;00m zObject:\n\u001b[1;32m----> 2\u001b[0m     \u001b[43mzObject\u001b[49m\u001b[38;5;241;43m.\u001b[39;49m\u001b[43mextractall\u001b[49m\u001b[43m(\u001b[49m\u001b[43mpath\u001b[49m\u001b[38;5;241;43m=\u001b[39;49m\u001b[38;5;124;43m\"\u001b[39;49m\u001b[38;5;124;43mC:\u001b[39;49m\u001b[38;5;130;43;01m\\\\\u001b[39;49;00m\u001b[38;5;124;43mUsers\u001b[39;49m\u001b[38;5;130;43;01m\\\\\u001b[39;49;00m\u001b[38;5;124;43mmicro\u001b[39;49m\u001b[38;5;130;43;01m\\\\\u001b[39;49;00m\u001b[38;5;124;43mDownloads\u001b[39;49m\u001b[38;5;130;43;01m\\\\\u001b[39;49;00m\u001b[38;5;124;43mZipFiles\u001b[39;49m\u001b[38;5;130;43;01m\\\\\u001b[39;49;00m\u001b[38;5;124;43mZip\u001b[39;49m\u001b[38;5;124;43m\"\u001b[39;49m\u001b[43m)\u001b[49m\n",
      "File \u001b[1;32m~\\AppData\\Local\\Programs\\Python\\Python310\\lib\\zipfile.py:1643\u001b[0m, in \u001b[0;36mZipFile.extractall\u001b[1;34m(self, path, members, pwd)\u001b[0m\n\u001b[0;32m   1640\u001b[0m     path \u001b[38;5;241m=\u001b[39m os\u001b[38;5;241m.\u001b[39mfspath(path)\n\u001b[0;32m   1642\u001b[0m \u001b[38;5;28;01mfor\u001b[39;00m zipinfo \u001b[38;5;129;01min\u001b[39;00m members:\n\u001b[1;32m-> 1643\u001b[0m     \u001b[38;5;28;43mself\u001b[39;49m\u001b[38;5;241;43m.\u001b[39;49m\u001b[43m_extract_member\u001b[49m\u001b[43m(\u001b[49m\u001b[43mzipinfo\u001b[49m\u001b[43m,\u001b[49m\u001b[43m \u001b[49m\u001b[43mpath\u001b[49m\u001b[43m,\u001b[49m\u001b[43m \u001b[49m\u001b[43mpwd\u001b[49m\u001b[43m)\u001b[49m\n",
      "File \u001b[1;32m~\\AppData\\Local\\Programs\\Python\\Python310\\lib\\zipfile.py:1696\u001b[0m, in \u001b[0;36mZipFile._extract_member\u001b[1;34m(self, member, targetpath, pwd)\u001b[0m\n\u001b[0;32m   1693\u001b[0m         os\u001b[38;5;241m.\u001b[39mmkdir(targetpath)\n\u001b[0;32m   1694\u001b[0m     \u001b[38;5;28;01mreturn\u001b[39;00m targetpath\n\u001b[1;32m-> 1696\u001b[0m \u001b[38;5;28;01mwith\u001b[39;00m \u001b[38;5;28;43mself\u001b[39;49m\u001b[38;5;241;43m.\u001b[39;49m\u001b[43mopen\u001b[49m\u001b[43m(\u001b[49m\u001b[43mmember\u001b[49m\u001b[43m,\u001b[49m\u001b[43m \u001b[49m\u001b[43mpwd\u001b[49m\u001b[38;5;241;43m=\u001b[39;49m\u001b[43mpwd\u001b[49m\u001b[43m)\u001b[49m \u001b[38;5;28;01mas\u001b[39;00m source, \\\n\u001b[0;32m   1697\u001b[0m      \u001b[38;5;28mopen\u001b[39m(targetpath, \u001b[38;5;124m\"\u001b[39m\u001b[38;5;124mwb\u001b[39m\u001b[38;5;124m\"\u001b[39m) \u001b[38;5;28;01mas\u001b[39;00m target:\n\u001b[0;32m   1698\u001b[0m     shutil\u001b[38;5;241m.\u001b[39mcopyfileobj(source, target)\n\u001b[0;32m   1700\u001b[0m \u001b[38;5;28;01mreturn\u001b[39;00m targetpath\n",
      "File \u001b[1;32m~\\AppData\\Local\\Programs\\Python\\Python310\\lib\\zipfile.py:1569\u001b[0m, in \u001b[0;36mZipFile.open\u001b[1;34m(self, name, mode, pwd, force_zip64)\u001b[0m\n\u001b[0;32m   1566\u001b[0m     \u001b[38;5;28;01melse\u001b[39;00m:\n\u001b[0;32m   1567\u001b[0m         pwd \u001b[38;5;241m=\u001b[39m \u001b[38;5;28;01mNone\u001b[39;00m\n\u001b[1;32m-> 1569\u001b[0m     \u001b[38;5;28;01mreturn\u001b[39;00m \u001b[43mZipExtFile\u001b[49m\u001b[43m(\u001b[49m\u001b[43mzef_file\u001b[49m\u001b[43m,\u001b[49m\u001b[43m \u001b[49m\u001b[43mmode\u001b[49m\u001b[43m,\u001b[49m\u001b[43m \u001b[49m\u001b[43mzinfo\u001b[49m\u001b[43m,\u001b[49m\u001b[43m \u001b[49m\u001b[43mpwd\u001b[49m\u001b[43m,\u001b[49m\u001b[43m \u001b[49m\u001b[38;5;28;43;01mTrue\u001b[39;49;00m\u001b[43m)\u001b[49m\n\u001b[0;32m   1570\u001b[0m \u001b[38;5;28;01mexcept\u001b[39;00m:\n\u001b[0;32m   1571\u001b[0m     zef_file\u001b[38;5;241m.\u001b[39mclose()\n",
      "File \u001b[1;32m~\\AppData\\Local\\Programs\\Python\\Python310\\lib\\zipfile.py:800\u001b[0m, in \u001b[0;36mZipExtFile.__init__\u001b[1;34m(self, fileobj, mode, zipinfo, pwd, close_fileobj)\u001b[0m\n\u001b[0;32m    797\u001b[0m \u001b[38;5;28mself\u001b[39m\u001b[38;5;241m.\u001b[39m_compress_left \u001b[38;5;241m=\u001b[39m zipinfo\u001b[38;5;241m.\u001b[39mcompress_size\n\u001b[0;32m    798\u001b[0m \u001b[38;5;28mself\u001b[39m\u001b[38;5;241m.\u001b[39m_left \u001b[38;5;241m=\u001b[39m zipinfo\u001b[38;5;241m.\u001b[39mfile_size\n\u001b[1;32m--> 800\u001b[0m \u001b[38;5;28mself\u001b[39m\u001b[38;5;241m.\u001b[39m_decompressor \u001b[38;5;241m=\u001b[39m \u001b[43m_get_decompressor\u001b[49m\u001b[43m(\u001b[49m\u001b[38;5;28;43mself\u001b[39;49m\u001b[38;5;241;43m.\u001b[39;49m\u001b[43m_compress_type\u001b[49m\u001b[43m)\u001b[49m\n\u001b[0;32m    802\u001b[0m \u001b[38;5;28mself\u001b[39m\u001b[38;5;241m.\u001b[39m_eof \u001b[38;5;241m=\u001b[39m \u001b[38;5;28;01mFalse\u001b[39;00m\n\u001b[0;32m    803\u001b[0m \u001b[38;5;28mself\u001b[39m\u001b[38;5;241m.\u001b[39m_readbuffer \u001b[38;5;241m=\u001b[39m \u001b[38;5;124mb\u001b[39m\u001b[38;5;124m'\u001b[39m\u001b[38;5;124m'\u001b[39m\n",
      "File \u001b[1;32m~\\AppData\\Local\\Programs\\Python\\Python310\\lib\\zipfile.py:699\u001b[0m, in \u001b[0;36m_get_decompressor\u001b[1;34m(compress_type)\u001b[0m\n\u001b[0;32m    698\u001b[0m \u001b[38;5;28;01mdef\u001b[39;00m \u001b[38;5;21m_get_decompressor\u001b[39m(compress_type):\n\u001b[1;32m--> 699\u001b[0m     \u001b[43m_check_compression\u001b[49m\u001b[43m(\u001b[49m\u001b[43mcompress_type\u001b[49m\u001b[43m)\u001b[49m\n\u001b[0;32m    700\u001b[0m     \u001b[38;5;28;01mif\u001b[39;00m compress_type \u001b[38;5;241m==\u001b[39m ZIP_STORED:\n\u001b[0;32m    701\u001b[0m         \u001b[38;5;28;01mreturn\u001b[39;00m \u001b[38;5;28;01mNone\u001b[39;00m\n",
      "File \u001b[1;32m~\\AppData\\Local\\Programs\\Python\\Python310\\lib\\zipfile.py:679\u001b[0m, in \u001b[0;36m_check_compression\u001b[1;34m(compression)\u001b[0m\n\u001b[0;32m    676\u001b[0m         \u001b[38;5;28;01mraise\u001b[39;00m \u001b[38;5;167;01mRuntimeError\u001b[39;00m(\n\u001b[0;32m    677\u001b[0m             \u001b[38;5;124m\"\u001b[39m\u001b[38;5;124mCompression requires the (missing) lzma module\u001b[39m\u001b[38;5;124m\"\u001b[39m)\n\u001b[0;32m    678\u001b[0m \u001b[38;5;28;01melse\u001b[39;00m:\n\u001b[1;32m--> 679\u001b[0m     \u001b[38;5;28;01mraise\u001b[39;00m \u001b[38;5;167;01mNotImplementedError\u001b[39;00m(\u001b[38;5;124m\"\u001b[39m\u001b[38;5;124mThat compression method is not supported\u001b[39m\u001b[38;5;124m\"\u001b[39m)\n",
      "\u001b[1;31mNotImplementedError\u001b[0m: That compression method is not supported"
     ]
    }
   ],
   "source": [
    "with zipfile.ZipFile(zippath, 'r') as zObject:\n",
    "    zObject.extractall(path=\"C:\\\\Users\\\\micro\\\\Downloads\\\\ZipFiles\\\\Zip\")"
   ]
  },
  {
   "cell_type": "markdown",
   "id": "88ea3c11",
   "metadata": {},
   "source": [
    "### Zip File (Deflate64)"
   ]
  },
  {
   "cell_type": "code",
   "execution_count": 14,
   "id": "b9f484bf",
   "metadata": {},
   "outputs": [
    {
     "name": "stdout",
     "output_type": "stream",
     "text": [
      "Requirement already satisfied: zipfile_deflate64 in c:\\users\\micro\\appdata\\local\\programs\\python\\python310\\lib\\site-packages (0.2.0)\n",
      "Note: you may need to restart the kernel to use updated packages.\n"
     ]
    }
   ],
   "source": [
    "pip install zipfile_deflate64"
   ]
  },
  {
   "cell_type": "code",
   "execution_count": 15,
   "id": "aa40b553",
   "metadata": {},
   "outputs": [],
   "source": [
    "import zipfile_deflate64 as deflate\n",
    "zippath = 'C:\\\\Users\\\\micro\\\\Downloads\\\\ZipFiles\\\\issue58-test.zip'\n",
    "with deflate.ZipFile(zippath, 'r',compression=zipfile.ZIP_DEFLATED64) as zObject:\n",
    "    zObject.extractall(path=\"C:\\\\Users\\\\micro\\\\Downloads\\\\ZipFiles\\\\Zip\")"
   ]
  },
  {
   "cell_type": "markdown",
   "id": "52cc0bad",
   "metadata": {},
   "source": [
    "### Tar and Tgz"
   ]
  },
  {
   "cell_type": "code",
   "execution_count": 16,
   "id": "b3c19c79",
   "metadata": {},
   "outputs": [],
   "source": [
    "import tarfile"
   ]
  },
  {
   "cell_type": "code",
   "execution_count": 17,
   "id": "7fa15bec",
   "metadata": {},
   "outputs": [
    {
     "name": "stdout",
     "output_type": "stream",
     "text": [
      ".\n",
      "./dwsample1-mp3.mp3\n"
     ]
    }
   ],
   "source": [
    "zippath = \"C:\\\\Users\\\\micro\\\\Downloads\\\\ZipFiles\\\\dwsample1-tar.tar\"\n",
    "zp =tarfile.open(zippath)\n",
    "namelist = zp.getnames()\n",
    "for name in namelist:\n",
    "    print(name)\n",
    "zp.extractall(\"C:\\\\Users\\\\micro\\\\Downloads\\\\ZipFiles\\\\Tar\")"
   ]
  },
  {
   "cell_type": "code",
   "execution_count": 18,
   "id": "4f66e0f3",
   "metadata": {},
   "outputs": [
    {
     "name": "stdout",
     "output_type": "stream",
     "text": [
      "dwsample1-mp3.mp3\n"
     ]
    }
   ],
   "source": [
    "zippath = \"C:\\\\Users\\\\micro\\\\Downloads\\\\ZipFiles\\\\dwsample1-tgz.tgz\"\n",
    "zp =tarfile.open(zippath)\n",
    "namelist = zp.getnames()\n",
    "for name in namelist:\n",
    "    print(name)\n",
    "zp.extractall(\"C:\\\\Users\\\\micro\\\\Downloads\\\\ZipFiles\\\\Tgz\")"
   ]
  },
  {
   "cell_type": "markdown",
   "id": "dcc821b4",
   "metadata": {},
   "source": [
    "### 7z file"
   ]
  },
  {
   "cell_type": "code",
   "execution_count": 19,
   "id": "40729063",
   "metadata": {},
   "outputs": [
    {
     "name": "stdout",
     "output_type": "stream",
     "text": [
      "Requirement already satisfied: py7zr in c:\\users\\micro\\appdata\\local\\programs\\python\\python310\\lib\\site-packages (0.20.5)\n",
      "Requirement already satisfied: texttable in c:\\users\\micro\\appdata\\local\\programs\\python\\python310\\lib\\site-packages (from py7zr) (1.6.7)\n",
      "Requirement already satisfied: pycryptodomex>=3.6.6 in c:\\users\\micro\\appdata\\local\\programs\\python\\python310\\lib\\site-packages (from py7zr) (3.18.0)\n",
      "Requirement already satisfied: pyzstd>=0.14.4 in c:\\users\\micro\\appdata\\local\\programs\\python\\python310\\lib\\site-packages (from py7zr) (0.15.8)\n",
      "Requirement already satisfied: pyppmd<1.1.0,>=0.18.1 in c:\\users\\micro\\appdata\\local\\programs\\python\\python310\\lib\\site-packages (from py7zr) (1.0.0)\n",
      "Requirement already satisfied: pybcj>=0.6.0 in c:\\users\\micro\\appdata\\local\\programs\\python\\python310\\lib\\site-packages (from py7zr) (1.0.1)\n",
      "Requirement already satisfied: multivolumefile>=0.2.3 in c:\\users\\micro\\appdata\\local\\programs\\python\\python310\\lib\\site-packages (from py7zr) (0.2.3)\n",
      "Requirement already satisfied: brotli>=1.0.9 in c:\\users\\micro\\appdata\\local\\programs\\python\\python310\\lib\\site-packages (from py7zr) (1.0.9)\n",
      "Requirement already satisfied: inflate64>=0.3.1 in c:\\users\\micro\\appdata\\local\\programs\\python\\python310\\lib\\site-packages (from py7zr) (0.3.1)\n",
      "Requirement already satisfied: psutil in c:\\users\\micro\\appdata\\local\\programs\\python\\python310\\lib\\site-packages (from py7zr) (5.9.5)\n",
      "Note: you may need to restart the kernel to use updated packages.\n"
     ]
    }
   ],
   "source": [
    "pip install py7zr"
   ]
  },
  {
   "cell_type": "code",
   "execution_count": 20,
   "id": "b52e9113",
   "metadata": {},
   "outputs": [],
   "source": [
    "import py7zr\n",
    "zippath = 'C:\\\\Users\\\\micro\\\\Downloads\\\\ZipFiles\\\\dwsample1-7z.7z'\n",
    "with py7zr.SevenZipFile(zippath, 'r') as zObject:\n",
    "    zObject.extractall(path=\"C:\\\\Users\\\\micro\\\\Downloads\\\\ZipFiles\\\\7z\")"
   ]
  },
  {
   "cell_type": "markdown",
   "id": "3ea1e4d4",
   "metadata": {},
   "source": [
    "### RAR file"
   ]
  },
  {
   "cell_type": "code",
   "execution_count": 21,
   "id": "6cbfccdb",
   "metadata": {},
   "outputs": [
    {
     "name": "stdout",
     "output_type": "stream",
     "text": [
      "Requirement already satisfied: rarfile in c:\\users\\micro\\appdata\\local\\programs\\python\\python310\\lib\\site-packages (4.0)\n",
      "Note: you may need to restart the kernel to use updated packages.\n"
     ]
    }
   ],
   "source": [
    "pip install rarfile  "
   ]
  },
  {
   "cell_type": "code",
   "execution_count": 22,
   "id": "6f558171",
   "metadata": {},
   "outputs": [
    {
     "name": "stdout",
     "output_type": "stream",
     "text": [
      "dwsample1-mp3.mp3\n"
     ]
    }
   ],
   "source": [
    "from rarfile import RarFile\n",
    "zippath = 'C:\\\\Users\\\\micro\\\\Downloads\\\\ZipFiles\\\\dwsample1-rar.rar'\n",
    "rar = RarFile(zippath)\n",
    "namelist = rar.namelist()\n",
    "for name in namelist:\n",
    "    print(name)\n",
    "rar.extractall(\"C:\\\\Users\\\\micro\\\\Downloads\\\\ZipFiles\\\\rar\")"
   ]
  }
 ],
 "metadata": {
  "kernelspec": {
   "display_name": "Python 3 (ipykernel)",
   "language": "python",
   "name": "python3"
  },
  "language_info": {
   "codemirror_mode": {
    "name": "ipython",
    "version": 3
   },
   "file_extension": ".py",
   "mimetype": "text/x-python",
   "name": "python",
   "nbconvert_exporter": "python",
   "pygments_lexer": "ipython3",
   "version": "3.10.4"
  }
 },
 "nbformat": 4,
 "nbformat_minor": 5
}
